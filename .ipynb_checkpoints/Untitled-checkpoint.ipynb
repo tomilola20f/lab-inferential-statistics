{
 "cells": [
  {
   "cell_type": "code",
   "execution_count": 1,
   "id": "693025a7",
   "metadata": {},
   "outputs": [],
   "source": [
    "import math as m\n",
    "import scipy.stats as stats\n",
    "import numpy as np"
   ]
  },
  {
   "cell_type": "markdown",
   "id": "d440831f",
   "metadata": {},
   "source": [
    "## It is assumed that the mean systolic blood pressure is μ = 120 mm Hg. In the Honolulu Heart Study, a sample of n = 100 people had an average systolic blood pressure of 130.1 mm Hg with a standard deviation of 21.21 mm Hg. Is the group significantly different (with respect to systolic blood pressure!) from the regular population?¶\n",
    "Set up the hypothesis test. Write down all the steps followed for setting up the test. Calculate the test statistic by hand and also code it in Python. It should be 4.76190. We will take a look at how to make decisions based on this calculated value."
   ]
  },
  {
   "cell_type": "code",
   "execution_count": 2,
   "id": "19bf9a86",
   "metadata": {},
   "outputs": [
    {
     "data": {
      "text/plain": [
       "4.761904761904759"
      ]
     },
     "execution_count": 2,
     "metadata": {},
     "output_type": "execute_result"
    }
   ],
   "source": [
    "(130.1 - 120) / (21.21/ m.sqrt(100)) # calculation by hand"
   ]
  },
  {
   "cell_type": "code",
   "execution_count": 3,
   "id": "5a194f0d",
   "metadata": {},
   "outputs": [],
   "source": [
    "μ = 120 \n",
    "n = 100\n",
    "std = 21.21\n",
    "sysBp = 130.1"
   ]
  },
  {
   "cell_type": "code",
   "execution_count": 4,
   "id": "5efe3858",
   "metadata": {},
   "outputs": [],
   "source": [
    "df  = (sysBp - μ) / (std/m.sqrt(n))"
   ]
  },
  {
   "cell_type": "code",
   "execution_count": 5,
   "id": "3e1ddeb0",
   "metadata": {},
   "outputs": [
    {
     "data": {
      "text/plain": [
       "4.761904761904759"
      ]
     },
     "execution_count": 5,
     "metadata": {},
     "output_type": "execute_result"
    }
   ],
   "source": [
    "df"
   ]
  },
  {
   "cell_type": "code",
   "execution_count": 6,
   "id": "0585c1ec",
   "metadata": {},
   "outputs": [],
   "source": [
    "# we reject the null hypothesis "
   ]
  },
  {
   "cell_type": "code",
   "execution_count": null,
   "id": "354f8d56",
   "metadata": {},
   "outputs": [],
   "source": []
  }
 ],
 "metadata": {
  "kernelspec": {
   "display_name": "Python 3 (ipykernel)",
   "language": "python",
   "name": "python3"
  },
  "language_info": {
   "codemirror_mode": {
    "name": "ipython",
    "version": 3
   },
   "file_extension": ".py",
   "mimetype": "text/x-python",
   "name": "python",
   "nbconvert_exporter": "python",
   "pygments_lexer": "ipython3",
   "version": "3.9.12"
  }
 },
 "nbformat": 4,
 "nbformat_minor": 5
}
